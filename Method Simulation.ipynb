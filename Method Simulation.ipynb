{
 "cells": [
  {
   "cell_type": "code",
   "execution_count": 37,
   "metadata": {
    "collapsed": false
   },
   "outputs": [],
   "source": [
    "from scipy.stats import norm, t\n",
    "import numpy as np\n",
    "import math\n",
    "import statsmodels.api as sm "
   ]
  },
  {
   "cell_type": "code",
   "execution_count": 6,
   "metadata": {
    "collapsed": false
   },
   "outputs": [],
   "source": [
    "n = 364 # Number of daily observations\n",
    "save = {'mean': 2, 'sd': 0.1}\n",
    "prod = {'mean': 20, 'sd': 5}\n",
    "noise = {'mean': 0, 'sd': 5}\n",
    "baseload = 50\n",
    "intensity = 5"
   ]
  },
  {
   "cell_type": "markdown",
   "metadata": {},
   "source": [
    "# Functions"
   ]
  },
  {
   "cell_type": "code",
   "execution_count": 7,
   "metadata": {
    "collapsed": false
   },
   "outputs": [],
   "source": [
    "def data_gen(n = 364, p = prod, ns = noise, s = None,  capital = None, period = 0):\n",
    "    \"\"\"Generates an array of observation [production, energy, period]\n",
    "    Inputs:\n",
    "    n = # of observations\n",
    "    p = Object {mean, sd} modeling production as normal random variable\n",
    "    ns = Object {mean, sd} modeling noise in energy data as normal random variable\n",
    "    s = Object {mean, sd} modeling SEM savings as normal random variable\n",
    "    capital = Object{magnitude, start} modeling capital project savings as a magnitude and \n",
    "        start date.  The start date is expressed in fraction of years (0.5 represents a project implemented half way through)\n",
    "    period -> 0 = baseline, 1 = engagement\n",
    "    \n",
    "    Outputs:\n",
    "    returns an array of the form [production, energy, savings] and the sum of savings\"\"\"\n",
    "    production = np.random.normal(p['mean'], p['sd'], n) # generate production data\n",
    "    # generate savings data\n",
    "    if s is None:\n",
    "        savings = [0 for _ in range(1, n)]\n",
    "    else:\n",
    "        savings = np.random.normal(s['mean'], s['sd'], n) # generate savings data\n",
    "    \n",
    "    # Generate capital project savings\n",
    "    if capital is None:\n",
    "        cap = [0 for _ in range (1, n)]\n",
    "    else:\n",
    "        cap = [capital['savings'] if capital['start'] > i/n else 0 for i in range(1,n)]\n",
    "    \n",
    "    noise = np.random.normal(ns['mean'], ns['sd'], n) # generate noise\n",
    "    energy = [baseload + intensity* prod + noise - save - cap for prod, noise, save, cap in zip(production, noise, savings, cap)] \n",
    "    \n",
    "    # calculate energy data -> energy = baseload + intensity*production + noise - savings\n",
    "    sem_savings = sum(savings)\n",
    "    cap_savings = sum(cap)\n",
    "    data = [[production, energy, period] for production, energy in zip(production, energy)]\n",
    "    return data, sem_savings, cap_savings"
   ]
  },
  {
   "cell_type": "code",
   "execution_count": 8,
   "metadata": {
    "collapsed": false
   },
   "outputs": [],
   "source": [
    "def forecast_mean_pi(data):\n",
    "    \"\"\"Calculate predicted and actual energy consumption and prediction standard error \n",
    "    Inputs:\n",
    "        data:  array baseline and engagement observations in the form [production, energy, period]\n",
    "    Returns: \n",
    "        predicted_kwh:  predicted engagement period kWh using baseline model\n",
    "        actual_kwh: actual enagement period kWh\n",
    "        pred_se: standard error of predicted_kwh.  \n",
    "            Calculated as the square root of the sum of two variance components.\n",
    "                [1] The variance of the estimate of the expected value of annual consumption. Calculated using the\n",
    "                Convariance Matrix.\n",
    "                [2] The sum over the entire year of the variance of the noise in the meter-period-level observations.\n",
    "        \"\"\"\n",
    "    # Filter baseline data and fit model.\n",
    "    X = [x[0] for x in data if x[2] == 0] # X is baseline production data\n",
    "    Y = [y[1] for y in data if y[2] == 0] # Y is baseline energy data\n",
    "    X = sm.add_constant(X) # Adds intercept to model\n",
    "    lm = sm.OLS(Y, X) # Form of model\n",
    "    results = lm.fit() # fits model\n",
    "    \n",
    "    # Calulate predicted annual load (kWh)\n",
    "    engagement = [x for x in data if x[2] == 1] # Filter to engagement period\n",
    "    beta = results.params #Beta \n",
    "    predict_kwh = sum([[1, x[0]] @ beta for x in engagement]) # need to add constant\n",
    "    actual_kwh = sum([x[1] for x in engagement])\n",
    "    \n",
    "    #Calculate the mean variance\n",
    "    n = len(data)\n",
    "    vcov = results.cov_params()\n",
    "    mse_resid = results.mse_resid\n",
    "    mean_var = sum([[1, x[0]] @ vcov @ [1, x[0]] for x in data])\n",
    "    noise_var = n * mse_resid\n",
    "    pred_se = math.sqrt(mean_var + noise_var)\n",
    "    \n",
    "    return predict_kwh, actual_kwh, pred_se"
   ]
  },
  {
   "cell_type": "code",
   "execution_count": 9,
   "metadata": {
    "collapsed": true
   },
   "outputs": [],
   "source": [
    "def pre_post_ci(data):\n",
    "    \"\"\"Calculates pre/post model savings and standard error\n",
    "    \n",
    "    Inputs:\n",
    "        data: array of baseline and engagement observations in the form [production, energy, period]\n",
    "        \n",
    "    Output:\n",
    "        save: total (SEM and capital) energy savings \n",
    "        save_se: total energy savings standard error \"\"\"\n",
    "    \n",
    "    # Format data for model\n",
    "    X = [[x[0], x[2]] for x in data]  # X is in format [production, period]\n",
    "    X = sm.add_constant(X)\n",
    "    Y = [y[1] for y in data]\n",
    "    lm = sm.OLS(Y,X)\n",
    "    results = lm.fit()\n",
    "    \n",
    "    # Calculate the # of observations in the engagement period\n",
    "    n = len([x for x in data if x[2] ==1])\n",
    "    \n",
    "    # Calculate ci for period indicator\n",
    "    save = -1*results.params[2] * n\n",
    "    save_se = results.bse[2] * n\n",
    "    \n",
    "    return save, save_se"
   ]
  },
  {
   "cell_type": "code",
   "execution_count": 81,
   "metadata": {
    "collapsed": false
   },
   "outputs": [],
   "source": [
    "def simulate(n = 100, sv = save, cap = None):\n",
    "    \"\"\"Runs simulation\n",
    "        [1] Generates simulated data\n",
    "        [2] Calculates energy saved by forecast and pre/post method\n",
    "        [3] Compares actual savings to 80% CI of estimated savings\n",
    "        [4] Calculates average 80% CI of estimated savings over trail runs\n",
    "    \n",
    "    Inputs:\n",
    "        n:  # of simulation trails\n",
    "        sv: Object {mean, sd} to model savings as normal random variable\n",
    "        cap:  Object {savings, start} modeling the implementation of a capital project\n",
    "    \n",
    "    Output:\n",
    "        success rate forecast prediction ci\n",
    "        success rate pre/post ci\n",
    "        forecast_ci (upr and lwr): average forecast prediction upr and lwr 80% CI over trails\n",
    "        prepost_ci (upr and lwr):  average prepost predicition upr and lwr 80% CI over trails\n",
    "        \n",
    "        The success rate is # trails with ci / # trails\n",
    "        Where ci = est +/- 1.282 * est_se \"\"\"\n",
    "    \n",
    "    # initialize within to count # of actual savings within the model's 80% confidence interval\n",
    "    # initialize mds to count # of models checked\n",
    "    within_f, within_pp = 0,0\n",
    "    forecast_ci = (0,0)\n",
    "    prepost_ci = (0,0)\n",
    "    mds = 0\n",
    "\n",
    "    for _ in range(n):\n",
    "        # Generate Baseline Data\n",
    "        baseline, _, _ = data_gen() # Generate baseline data \n",
    "        engagement, save_actual, cap_actual = data_gen(s = sv, capital = cap, period = 1) # Generate engagement data\n",
    "        data = [*baseline, *engagement] # Combine baseline and engagement data\n",
    "    \n",
    "        # FORECAST - Model and Results\n",
    "        predict_kwh, actual_kwh, pred_se = forecast_mean_pi(data)\n",
    "        save_model = predict_kwh - actual_kwh - cap_actual # Calculated the forecast model estimate of savings\n",
    "    \n",
    "        # FORECAST - Comparison to actual\n",
    "        upr, lwr = save_model + 1.28 * pred_se, save_model - 1.28 * pred_se\n",
    "        if lwr <= save_actual <= upr: within_f += 1\n",
    "        run_lwr, run_upr = forecast_ci #add loop results to running total\n",
    "        forecast_ci = run_lwr + lwr, run_upr + upr\n",
    "        \n",
    "        #PREPOST - Model and Results\n",
    "        pp_all, pp_se = pre_post_ci(data)\n",
    "        pp_sem = pp_all - cap_actual # Remove capital project savings\n",
    "        \n",
    "        # PREPOST - Comparison to actual \n",
    "        upr, lwr = pp_sem + 1.28 * pp_se, pp_sem - 1.28 * pp_se\n",
    "        if lwr <= save_actual <= upr: within_pp += 1\n",
    "        run_lwr, run_upr = prepost_ci #add loop results to running total\n",
    "        prepost_ci = run_lwr + lwr, run_upr + upr\n",
    "            \n",
    "        mds +=1\n",
    "    \n",
    "    return within_f/mds*100, within_pp/mds*100, (ci/mds for ci in forecast_ci),(ci/mds for ci in prepost_ci)"
   ]
  },
  {
   "cell_type": "markdown",
   "metadata": {},
   "source": [
    "# Simulations"
   ]
  },
  {
   "cell_type": "markdown",
   "metadata": {},
   "source": [
    "Simulations are run for various combinations of energy savings, energy savings variability, and with or without capital project.  \n",
    "\n",
    "1. __Energy Savings__ \n",
    "\n",
    "    1. Mean value ranging for low (2 - 1.3%), medium (5 - 3.3%), and high (10 - 6.6%)\n",
    "    2. Variablity ranging from no variability (sd = 0.01) to high variability (sd = 50% mu)\n",
    "    \n",
    "2. __Capital Projects:__ Two Scenarios are considered   \n",
    "\n",
    "    1. No capital projects\n",
    "    2. 1 medium capital project (3.3%) implemented midway through the engagement period.\n",
    "    \n",
    "__Run 2,500 trials:__\n",
    "    \n",
    "1. Generate data.  Record the actual savings value.\n",
    "2. Fit forecast model and pre/post model.\n",
    "3. Compared actual savings value to the models' 80% CI's\n",
    "    \n",
    "__Compute Summary Statistics:__\n",
    " \n",
    "1. Calculate frequency of actual savings within model CI's\n",
    "2. Calculate average CI's"
   ]
  },
  {
   "cell_type": "code",
   "execution_count": 86,
   "metadata": {
    "collapsed": false
   },
   "outputs": [
    {
     "name": "stdout",
     "output_type": "stream",
     "text": [
      "         savings           Forecast Prepost      Forecast         Pre/Post    \n",
      "savings  variance capital  % Correct % Correct   lwr      upr      lwr      upr   \n",
      "   2       0.1       -        79.96%    80.16%   552.01   897.63   552.35   897.39\n",
      "   2       0.1       X        80.72%    83.68%   555.33   900.60   544.79   910.75\n",
      "   2        1        -        78.92%    79.52%   557.99   903.97   556.49   905.14\n",
      "   2        1        X        80.16%    83.28%   555.96   901.82   544.10   913.75\n",
      "   5       2.5       -        80.40%    82.72%  1640.96  1986.71  1630.75  1996.79\n",
      "   5       2.5       X        81.60%    86.28%  1642.35  1987.88  1622.23  2008.11\n",
      "   10       5        -        80.12%    88.00%  3456.59  3801.98  3417.58  3840.50\n",
      "   10       5        X        78.96%    89.00%  3454.31  3799.82  3406.85  3846.97\n"
     ]
    }
   ],
   "source": [
    "# Initialize Simulation\n",
    "sim_results = []\n",
    "savings_models = [{'mean':2, 'sd':0.1}, {'mean':2, 'sd':1},\n",
    "                  {'mean':5, 'sd':2.5}, {'mean':10, 'sd':5}]\n",
    "capital_models = [None, {'savings':5, 'start':0.5}]\n",
    "\n",
    "# Run Simulations\n",
    "for sv, cap in [(sv, cap) for sv in savings_models for cap in capital_models]:\n",
    "    \n",
    "    forecast, prepost, forecast_ci, prepost_ci = simulate(2500, sv, cap)\n",
    "    capital = 'X' if cap else '-'\n",
    "    sim_results.append([sv['mean'], sv['sd'], capital ,forecast, prepost, *forecast_ci, *prepost_ci])\n",
    "\n",
    "# Print Result\n",
    "print(\"{:^8} {:^8} {:^8} {:^8} {:^8} {:^16} {:^16}\".format('', 'savings', '',\n",
    "                                       'Forecast', 'Prepost', \n",
    "                                        'Forecast', 'Pre/Post'))\n",
    "print(\"{:^8} {:^8} {:^8} {:^8} {:^8} {:^8} {:^8} {:^8} {:^8}\".format('savings', 'variance', 'capital',\n",
    "                                       '% Correct', '% Correct', \n",
    "                                        'lwr', 'upr', 'lwr', 'upr'))\n",
    "    \n",
    "for row in sim_results:\n",
    "    print(\"{:^8} {:^8} {:^8} {:>8.2f}% {:>8.2f}% {:>8.2f} {:>8.2f} {:>8.2f} {:>8.2f}\".format(*row))\n",
    "    "
   ]
  },
  {
   "cell_type": "markdown",
   "metadata": {
    "collapsed": true
   },
   "source": [
    "## Interpreting Simulation Results\n",
    "\n",
    "The forecast method builds a model on only the baseline data.  The pre/post method incorporates data from both the baseline and engagement period.  When the signal the model is attempting to detect (energy savings) varies, the signal variation increases standard error in the pre / post method result. \n",
    "\n",
    "__Comparing the forecast and the pre/post results__\n",
    "\n",
    "_When energy savings are consistent_, the forecast and pre / post method yield similar standard errors.\n",
    "_When energy savings vary_, the forecast method yields a smaller standard error than the pre / post method.\n",
    "   \n",
    "The results indicate that the forecast method is robust to variability in energy savings.  The pre / post method is sensitive to variation in SEM savings and capital projects.\n",
    "   \n",
    "__Does it matter?__\n",
    "Probably.  SEM is designed to create variable energy savings.  SEM promotes:\n",
    "\n",
    "1. Incremental improvements (savings  increase over time)\n",
    "2. Capital projects (SEM participants triple the rate of capital project implementation)\n",
    "3. Targeted improvements (i.e. energy efficiency measures than apply to only specific operating conditions)\n",
    "\n",
    "As a result, the most extreme scenario modeled (high savings, high variance, and capital project) is not extreme nor uncommon in the SEM portfolio."
   ]
  }
 ],
 "metadata": {
  "kernelspec": {
   "display_name": "Python 3",
   "language": "python",
   "name": "python3"
  },
  "language_info": {
   "codemirror_mode": {
    "name": "ipython",
    "version": 3
   },
   "file_extension": ".py",
   "mimetype": "text/x-python",
   "name": "python",
   "nbconvert_exporter": "python",
   "pygments_lexer": "ipython3",
   "version": "3.5.1"
  }
 },
 "nbformat": 4,
 "nbformat_minor": 0
}
